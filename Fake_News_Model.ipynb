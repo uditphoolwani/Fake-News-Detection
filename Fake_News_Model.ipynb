{
 "cells": [
  {
   "cell_type": "markdown",
   "metadata": {},
   "source": [
    "# Detecting Fake News"
   ]
  },
  {
   "cell_type": "markdown",
   "metadata": {},
   "source": [
    "### Importing the relevant libraries"
   ]
  },
  {
   "cell_type": "code",
   "execution_count": 1,
   "metadata": {},
   "outputs": [],
   "source": [
    "import numpy as np\n",
    "import pandas as pd\n",
    "import itertools\n",
    "from sklearn.model_selection import train_test_split\n",
    "from sklearn.feature_extraction.text import TfidfVectorizer\n",
    "from sklearn.linear_model import PassiveAggressiveClassifier\n",
    "from sklearn.metrics import accuracy_score, confusion_matrix\n",
    "import re"
   ]
  },
  {
   "cell_type": "markdown",
   "metadata": {},
   "source": [
    "### Loading the raw data"
   ]
  },
  {
   "cell_type": "code",
   "execution_count": 3,
   "metadata": {},
   "outputs": [
    {
     "data": {
      "text/html": [
       "<div>\n",
       "<style scoped>\n",
       "    .dataframe tbody tr th:only-of-type {\n",
       "        vertical-align: middle;\n",
       "    }\n",
       "\n",
       "    .dataframe tbody tr th {\n",
       "        vertical-align: top;\n",
       "    }\n",
       "\n",
       "    .dataframe thead th {\n",
       "        text-align: right;\n",
       "    }\n",
       "</style>\n",
       "<table border=\"1\" class=\"dataframe\">\n",
       "  <thead>\n",
       "    <tr style=\"text-align: right;\">\n",
       "      <th></th>\n",
       "      <th>id</th>\n",
       "      <th>title</th>\n",
       "      <th>author</th>\n",
       "      <th>text</th>\n",
       "      <th>label</th>\n",
       "    </tr>\n",
       "  </thead>\n",
       "  <tbody>\n",
       "    <tr>\n",
       "      <th>0</th>\n",
       "      <td>0</td>\n",
       "      <td>House Dem Aide: We Didn’t Even See Comey’s Let...</td>\n",
       "      <td>Darrell Lucus</td>\n",
       "      <td>House Dem Aide: We Didn’t Even See Comey’s Let...</td>\n",
       "      <td>1</td>\n",
       "    </tr>\n",
       "    <tr>\n",
       "      <th>1</th>\n",
       "      <td>1</td>\n",
       "      <td>FLYNN: Hillary Clinton, Big Woman on Campus - ...</td>\n",
       "      <td>Daniel J. Flynn</td>\n",
       "      <td>Ever get the feeling your life circles the rou...</td>\n",
       "      <td>0</td>\n",
       "    </tr>\n",
       "    <tr>\n",
       "      <th>2</th>\n",
       "      <td>2</td>\n",
       "      <td>Why the Truth Might Get You Fired</td>\n",
       "      <td>Consortiumnews.com</td>\n",
       "      <td>Why the Truth Might Get You Fired October 29, ...</td>\n",
       "      <td>1</td>\n",
       "    </tr>\n",
       "    <tr>\n",
       "      <th>3</th>\n",
       "      <td>3</td>\n",
       "      <td>15 Civilians Killed In Single US Airstrike Hav...</td>\n",
       "      <td>Jessica Purkiss</td>\n",
       "      <td>Videos 15 Civilians Killed In Single US Airstr...</td>\n",
       "      <td>1</td>\n",
       "    </tr>\n",
       "    <tr>\n",
       "      <th>4</th>\n",
       "      <td>4</td>\n",
       "      <td>Iranian woman jailed for fictional unpublished...</td>\n",
       "      <td>Howard Portnoy</td>\n",
       "      <td>Print \\nAn Iranian woman has been sentenced to...</td>\n",
       "      <td>1</td>\n",
       "    </tr>\n",
       "  </tbody>\n",
       "</table>\n",
       "</div>"
      ],
      "text/plain": [
       "   id                                              title              author  \\\n",
       "0   0  House Dem Aide: We Didn’t Even See Comey’s Let...       Darrell Lucus   \n",
       "1   1  FLYNN: Hillary Clinton, Big Woman on Campus - ...     Daniel J. Flynn   \n",
       "2   2                  Why the Truth Might Get You Fired  Consortiumnews.com   \n",
       "3   3  15 Civilians Killed In Single US Airstrike Hav...     Jessica Purkiss   \n",
       "4   4  Iranian woman jailed for fictional unpublished...      Howard Portnoy   \n",
       "\n",
       "                                                text  label  \n",
       "0  House Dem Aide: We Didn’t Even See Comey’s Let...      1  \n",
       "1  Ever get the feeling your life circles the rou...      0  \n",
       "2  Why the Truth Might Get You Fired October 29, ...      1  \n",
       "3  Videos 15 Civilians Killed In Single US Airstr...      1  \n",
       "4  Print \\nAn Iranian woman has been sentenced to...      1  "
      ]
     },
     "execution_count": 3,
     "metadata": {},
     "output_type": "execute_result"
    }
   ],
   "source": [
    "df=pd.read_csv('train.csv')\n",
    "df.head()"
   ]
  },
  {
   "cell_type": "code",
   "execution_count": 4,
   "metadata": {},
   "outputs": [
    {
     "data": {
      "text/html": [
       "<div>\n",
       "<style scoped>\n",
       "    .dataframe tbody tr th:only-of-type {\n",
       "        vertical-align: middle;\n",
       "    }\n",
       "\n",
       "    .dataframe tbody tr th {\n",
       "        vertical-align: top;\n",
       "    }\n",
       "\n",
       "    .dataframe thead th {\n",
       "        text-align: right;\n",
       "    }\n",
       "</style>\n",
       "<table border=\"1\" class=\"dataframe\">\n",
       "  <thead>\n",
       "    <tr style=\"text-align: right;\">\n",
       "      <th></th>\n",
       "      <th>id</th>\n",
       "      <th>label</th>\n",
       "    </tr>\n",
       "  </thead>\n",
       "  <tbody>\n",
       "    <tr>\n",
       "      <th>count</th>\n",
       "      <td>20800.000000</td>\n",
       "      <td>20800.000000</td>\n",
       "    </tr>\n",
       "    <tr>\n",
       "      <th>mean</th>\n",
       "      <td>10399.500000</td>\n",
       "      <td>0.500625</td>\n",
       "    </tr>\n",
       "    <tr>\n",
       "      <th>std</th>\n",
       "      <td>6004.587135</td>\n",
       "      <td>0.500012</td>\n",
       "    </tr>\n",
       "    <tr>\n",
       "      <th>min</th>\n",
       "      <td>0.000000</td>\n",
       "      <td>0.000000</td>\n",
       "    </tr>\n",
       "    <tr>\n",
       "      <th>25%</th>\n",
       "      <td>5199.750000</td>\n",
       "      <td>0.000000</td>\n",
       "    </tr>\n",
       "    <tr>\n",
       "      <th>50%</th>\n",
       "      <td>10399.500000</td>\n",
       "      <td>1.000000</td>\n",
       "    </tr>\n",
       "    <tr>\n",
       "      <th>75%</th>\n",
       "      <td>15599.250000</td>\n",
       "      <td>1.000000</td>\n",
       "    </tr>\n",
       "    <tr>\n",
       "      <th>max</th>\n",
       "      <td>20799.000000</td>\n",
       "      <td>1.000000</td>\n",
       "    </tr>\n",
       "  </tbody>\n",
       "</table>\n",
       "</div>"
      ],
      "text/plain": [
       "                 id         label\n",
       "count  20800.000000  20800.000000\n",
       "mean   10399.500000      0.500625\n",
       "std     6004.587135      0.500012\n",
       "min        0.000000      0.000000\n",
       "25%     5199.750000      0.000000\n",
       "50%    10399.500000      1.000000\n",
       "75%    15599.250000      1.000000\n",
       "max    20799.000000      1.000000"
      ]
     },
     "execution_count": 4,
     "metadata": {},
     "output_type": "execute_result"
    }
   ],
   "source": [
    "df.describe()"
   ]
  },
  {
   "cell_type": "markdown",
   "metadata": {},
   "source": [
    "### Checking null  values"
   ]
  },
  {
   "cell_type": "code",
   "execution_count": 5,
   "metadata": {},
   "outputs": [
    {
     "data": {
      "text/html": [
       "<div>\n",
       "<style scoped>\n",
       "    .dataframe tbody tr th:only-of-type {\n",
       "        vertical-align: middle;\n",
       "    }\n",
       "\n",
       "    .dataframe tbody tr th {\n",
       "        vertical-align: top;\n",
       "    }\n",
       "\n",
       "    .dataframe thead th {\n",
       "        text-align: right;\n",
       "    }\n",
       "</style>\n",
       "<table border=\"1\" class=\"dataframe\">\n",
       "  <thead>\n",
       "    <tr style=\"text-align: right;\">\n",
       "      <th></th>\n",
       "      <th>id</th>\n",
       "      <th>title</th>\n",
       "      <th>author</th>\n",
       "      <th>text</th>\n",
       "      <th>label</th>\n",
       "    </tr>\n",
       "  </thead>\n",
       "  <tbody>\n",
       "    <tr>\n",
       "      <th>0</th>\n",
       "      <td>False</td>\n",
       "      <td>False</td>\n",
       "      <td>False</td>\n",
       "      <td>False</td>\n",
       "      <td>False</td>\n",
       "    </tr>\n",
       "    <tr>\n",
       "      <th>1</th>\n",
       "      <td>False</td>\n",
       "      <td>False</td>\n",
       "      <td>False</td>\n",
       "      <td>False</td>\n",
       "      <td>False</td>\n",
       "    </tr>\n",
       "    <tr>\n",
       "      <th>2</th>\n",
       "      <td>False</td>\n",
       "      <td>False</td>\n",
       "      <td>False</td>\n",
       "      <td>False</td>\n",
       "      <td>False</td>\n",
       "    </tr>\n",
       "    <tr>\n",
       "      <th>3</th>\n",
       "      <td>False</td>\n",
       "      <td>False</td>\n",
       "      <td>False</td>\n",
       "      <td>False</td>\n",
       "      <td>False</td>\n",
       "    </tr>\n",
       "    <tr>\n",
       "      <th>4</th>\n",
       "      <td>False</td>\n",
       "      <td>False</td>\n",
       "      <td>False</td>\n",
       "      <td>False</td>\n",
       "      <td>False</td>\n",
       "    </tr>\n",
       "    <tr>\n",
       "      <th>...</th>\n",
       "      <td>...</td>\n",
       "      <td>...</td>\n",
       "      <td>...</td>\n",
       "      <td>...</td>\n",
       "      <td>...</td>\n",
       "    </tr>\n",
       "    <tr>\n",
       "      <th>20795</th>\n",
       "      <td>False</td>\n",
       "      <td>False</td>\n",
       "      <td>False</td>\n",
       "      <td>False</td>\n",
       "      <td>False</td>\n",
       "    </tr>\n",
       "    <tr>\n",
       "      <th>20796</th>\n",
       "      <td>False</td>\n",
       "      <td>False</td>\n",
       "      <td>False</td>\n",
       "      <td>False</td>\n",
       "      <td>False</td>\n",
       "    </tr>\n",
       "    <tr>\n",
       "      <th>20797</th>\n",
       "      <td>False</td>\n",
       "      <td>False</td>\n",
       "      <td>False</td>\n",
       "      <td>False</td>\n",
       "      <td>False</td>\n",
       "    </tr>\n",
       "    <tr>\n",
       "      <th>20798</th>\n",
       "      <td>False</td>\n",
       "      <td>False</td>\n",
       "      <td>False</td>\n",
       "      <td>False</td>\n",
       "      <td>False</td>\n",
       "    </tr>\n",
       "    <tr>\n",
       "      <th>20799</th>\n",
       "      <td>False</td>\n",
       "      <td>False</td>\n",
       "      <td>False</td>\n",
       "      <td>False</td>\n",
       "      <td>False</td>\n",
       "    </tr>\n",
       "  </tbody>\n",
       "</table>\n",
       "<p>20800 rows × 5 columns</p>\n",
       "</div>"
      ],
      "text/plain": [
       "          id  title  author   text  label\n",
       "0      False  False   False  False  False\n",
       "1      False  False   False  False  False\n",
       "2      False  False   False  False  False\n",
       "3      False  False   False  False  False\n",
       "4      False  False   False  False  False\n",
       "...      ...    ...     ...    ...    ...\n",
       "20795  False  False   False  False  False\n",
       "20796  False  False   False  False  False\n",
       "20797  False  False   False  False  False\n",
       "20798  False  False   False  False  False\n",
       "20799  False  False   False  False  False\n",
       "\n",
       "[20800 rows x 5 columns]"
      ]
     },
     "execution_count": 5,
     "metadata": {},
     "output_type": "execute_result"
    }
   ],
   "source": [
    "df.isnull()"
   ]
  },
  {
   "cell_type": "markdown",
   "metadata": {},
   "source": [
    "### Declare the inputs and the targets"
   ]
  },
  {
   "cell_type": "code",
   "execution_count": 6,
   "metadata": {},
   "outputs": [],
   "source": [
    "df = df.drop([16921], axis=0)\n",
    "features = df.iloc[:, 3].values\n",
    "labels = df.iloc[:, 4].values"
   ]
  },
  {
   "cell_type": "markdown",
   "metadata": {},
   "source": [
    "### Preprocessing the data"
   ]
  },
  {
   "cell_type": "code",
   "execution_count": 7,
   "metadata": {},
   "outputs": [],
   "source": [
    "processed_features = []\n",
    "\n",
    "for sentence in range(0, len(features)):\n",
    "    # Remove all the special characters\n",
    "    processed_feature = re.sub(r'\\W', ' ', str(features[sentence]))\n",
    "\n",
    "    # remove all single characters\n",
    "    processed_feature= re.sub(r'\\s+[a-zA-Z]\\s+', ' ', processed_feature)\n",
    "\n",
    "    # Remove single characters from the start\n",
    "    processed_feature = re.sub(r'\\^[a-zA-Z]\\s+', ' ', processed_feature) \n",
    "\n",
    "    # Substituting multiple spaces with single space\n",
    "    processed_feature = re.sub(r'\\s+', ' ', processed_feature, flags=re.I)\n",
    "\n",
    "    # Removing prefixed 'b'\n",
    "    processed_feature = re.sub(r'^b\\s+', '', processed_feature)\n",
    "\n",
    "    # Converting to Lowercase\n",
    "    processed_feature = processed_feature.lower()\n",
    "\n",
    "    processed_features.append(processed_feature)"
   ]
  },
  {
   "cell_type": "code",
   "execution_count": 8,
   "metadata": {},
   "outputs": [],
   "source": [
    "featur = pd.DataFrame(data=processed_features, columns=[\"texts\"])\n",
    "lab=pd.DataFrame(data=labels,columns=[\"labels\"])"
   ]
  },
  {
   "cell_type": "markdown",
   "metadata": {},
   "source": [
    "### Train Test Split"
   ]
  },
  {
   "cell_type": "code",
   "execution_count": 9,
   "metadata": {},
   "outputs": [],
   "source": [
    "x_train,x_test,y_train,y_test=train_test_split(featur[\"texts\"],lab[\"labels\"],test_size=0.2,random_state=7)"
   ]
  },
  {
   "cell_type": "markdown",
   "metadata": {},
   "source": [
    "### Initialize TfidfVectorizer and Fit the data "
   ]
  },
  {
   "cell_type": "code",
   "execution_count": 10,
   "metadata": {},
   "outputs": [],
   "source": [
    "tf_v=TfidfVectorizer(max_features=2500,stop_words='english',max_df=0.7)\n",
    "tf_train=tf_v.fit_transform(x_train)\n",
    "tf_test=tf_v.transform(x_test)"
   ]
  },
  {
   "cell_type": "markdown",
   "metadata": {
    "scrolled": true
   },
   "source": [
    "### Passive Aggressive Classifier Model"
   ]
  },
  {
   "cell_type": "code",
   "execution_count": 11,
   "metadata": {},
   "outputs": [
    {
     "name": "stdout",
     "output_type": "stream",
     "text": [
      "-- Epoch 1\n",
      "Norm: 48.38, NNZs: 2500, Bias: 1.055272, T: 16519, Avg. loss: 0.211314\n",
      "Total training time: 0.01 seconds.\n",
      "-- Epoch 2\n",
      "Norm: 59.36, NNZs: 2500, Bias: 1.234261, T: 33038, Avg. loss: 0.118522\n",
      "Total training time: 0.03 seconds.\n",
      "-- Epoch 3\n",
      "Norm: 67.63, NNZs: 2500, Bias: 1.443539, T: 49557, Avg. loss: 0.097333\n",
      "Total training time: 0.04 seconds.\n",
      "-- Epoch 4\n",
      "Norm: 74.67, NNZs: 2500, Bias: 1.508001, T: 66076, Avg. loss: 0.087357\n",
      "Total training time: 0.05 seconds.\n",
      "-- Epoch 5\n",
      "Norm: 80.71, NNZs: 2500, Bias: 1.641200, T: 82595, Avg. loss: 0.078786\n",
      "Total training time: 0.06 seconds.\n",
      "-- Epoch 6\n",
      "Norm: 86.19, NNZs: 2500, Bias: 1.690173, T: 99114, Avg. loss: 0.071010\n",
      "Total training time: 0.07 seconds.\n",
      "-- Epoch 7\n",
      "Norm: 91.25, NNZs: 2500, Bias: 1.749648, T: 115633, Avg. loss: 0.067028\n",
      "Total training time: 0.08 seconds.\n",
      "-- Epoch 8\n",
      "Norm: 95.84, NNZs: 2500, Bias: 1.779323, T: 132152, Avg. loss: 0.062141\n",
      "Total training time: 0.09 seconds.\n",
      "-- Epoch 9\n",
      "Norm: 99.96, NNZs: 2500, Bias: 1.925969, T: 148671, Avg. loss: 0.058889\n",
      "Total training time: 0.10 seconds.\n",
      "-- Epoch 10\n",
      "Norm: 104.01, NNZs: 2500, Bias: 1.944004, T: 165190, Avg. loss: 0.055396\n",
      "Total training time: 0.11 seconds.\n",
      "-- Epoch 11\n",
      "Norm: 107.70, NNZs: 2500, Bias: 1.963451, T: 181709, Avg. loss: 0.051980\n",
      "Total training time: 0.12 seconds.\n",
      "-- Epoch 12\n",
      "Norm: 111.06, NNZs: 2500, Bias: 2.026923, T: 198228, Avg. loss: 0.049271\n",
      "Total training time: 0.13 seconds.\n",
      "-- Epoch 13\n",
      "Norm: 114.37, NNZs: 2500, Bias: 2.111388, T: 214747, Avg. loss: 0.047737\n",
      "Total training time: 0.15 seconds.\n",
      "-- Epoch 14\n",
      "Norm: 117.51, NNZs: 2500, Bias: 2.158113, T: 231266, Avg. loss: 0.044678\n",
      "Total training time: 0.16 seconds.\n",
      "-- Epoch 15\n",
      "Norm: 120.63, NNZs: 2500, Bias: 2.158756, T: 247785, Avg. loss: 0.043281\n",
      "Total training time: 0.17 seconds.\n",
      "-- Epoch 16\n",
      "Norm: 123.42, NNZs: 2500, Bias: 2.222263, T: 264304, Avg. loss: 0.041088\n",
      "Total training time: 0.18 seconds.\n",
      "-- Epoch 17\n",
      "Norm: 126.09, NNZs: 2500, Bias: 2.271942, T: 280823, Avg. loss: 0.038943\n",
      "Total training time: 0.19 seconds.\n",
      "-- Epoch 18\n",
      "Norm: 128.75, NNZs: 2500, Bias: 2.302478, T: 297342, Avg. loss: 0.037917\n",
      "Total training time: 0.20 seconds.\n",
      "-- Epoch 19\n",
      "Norm: 131.28, NNZs: 2500, Bias: 2.373205, T: 313861, Avg. loss: 0.036835\n",
      "Total training time: 0.21 seconds.\n",
      "-- Epoch 20\n",
      "Norm: 133.70, NNZs: 2500, Bias: 2.404525, T: 330380, Avg. loss: 0.035019\n",
      "Total training time: 0.22 seconds.\n",
      "-- Epoch 21\n",
      "Norm: 136.09, NNZs: 2500, Bias: 2.399822, T: 346899, Avg. loss: 0.033095\n",
      "Total training time: 0.23 seconds.\n",
      "-- Epoch 22\n",
      "Norm: 138.41, NNZs: 2500, Bias: 2.436915, T: 363418, Avg. loss: 0.033231\n",
      "Total training time: 0.24 seconds.\n",
      "-- Epoch 23\n",
      "Norm: 140.60, NNZs: 2500, Bias: 2.505602, T: 379937, Avg. loss: 0.031910\n",
      "Total training time: 0.25 seconds.\n",
      "-- Epoch 24\n",
      "Norm: 142.73, NNZs: 2500, Bias: 2.523696, T: 396456, Avg. loss: 0.030156\n",
      "Total training time: 0.26 seconds.\n",
      "-- Epoch 25\n",
      "Norm: 144.78, NNZs: 2500, Bias: 2.564774, T: 412975, Avg. loss: 0.029503\n",
      "Total training time: 0.27 seconds.\n",
      "-- Epoch 26\n",
      "Norm: 146.80, NNZs: 2500, Bias: 2.562246, T: 429494, Avg. loss: 0.028175\n",
      "Total training time: 0.28 seconds.\n",
      "-- Epoch 27\n",
      "Norm: 148.69, NNZs: 2500, Bias: 2.633629, T: 446013, Avg. loss: 0.027828\n",
      "Total training time: 0.29 seconds.\n",
      "-- Epoch 28\n",
      "Norm: 150.54, NNZs: 2500, Bias: 2.659473, T: 462532, Avg. loss: 0.026385\n",
      "Total training time: 0.30 seconds.\n",
      "-- Epoch 29\n",
      "Norm: 152.32, NNZs: 2500, Bias: 2.723580, T: 479051, Avg. loss: 0.025986\n",
      "Total training time: 0.31 seconds.\n",
      "-- Epoch 30\n",
      "Norm: 154.18, NNZs: 2500, Bias: 2.727651, T: 495570, Avg. loss: 0.025297\n",
      "Total training time: 0.32 seconds.\n",
      "-- Epoch 31\n",
      "Norm: 155.95, NNZs: 2500, Bias: 2.696916, T: 512089, Avg. loss: 0.023905\n",
      "Total training time: 0.33 seconds.\n",
      "-- Epoch 32\n",
      "Norm: 157.54, NNZs: 2500, Bias: 2.768976, T: 528608, Avg. loss: 0.023267\n",
      "Total training time: 0.34 seconds.\n",
      "-- Epoch 33\n",
      "Norm: 159.16, NNZs: 2500, Bias: 2.792050, T: 545127, Avg. loss: 0.022553\n",
      "Total training time: 0.35 seconds.\n",
      "-- Epoch 34\n",
      "Norm: 160.75, NNZs: 2500, Bias: 2.786785, T: 561646, Avg. loss: 0.021763\n",
      "Total training time: 0.37 seconds.\n",
      "-- Epoch 35\n",
      "Norm: 162.26, NNZs: 2500, Bias: 2.815591, T: 578165, Avg. loss: 0.021188\n",
      "Total training time: 0.38 seconds.\n",
      "-- Epoch 36\n",
      "Norm: 163.78, NNZs: 2500, Bias: 2.824544, T: 594684, Avg. loss: 0.020639\n",
      "Total training time: 0.39 seconds.\n",
      "Convergence after 36 epochs took 0.39 seconds\n"
     ]
    }
   ],
   "source": [
    "pac=PassiveAggressiveClassifier(max_iter=50,verbose=1)\n",
    "pac.fit(tf_train,y_train)\n",
    "y_pred=pac.predict(tf_test)"
   ]
  },
  {
   "cell_type": "markdown",
   "metadata": {},
   "source": [
    "### Accuracy"
   ]
  },
  {
   "cell_type": "code",
   "execution_count": 12,
   "metadata": {},
   "outputs": [
    {
     "name": "stdout",
     "output_type": "stream",
     "text": [
      "0.9266826923076923\n"
     ]
    }
   ],
   "source": [
    "score=accuracy_score(y_test,y_pred)\n",
    "print(score)"
   ]
  },
  {
   "cell_type": "markdown",
   "metadata": {},
   "source": [
    "### Confusion Matrix"
   ]
  },
  {
   "cell_type": "code",
   "execution_count": 13,
   "metadata": {},
   "outputs": [
    {
     "data": {
      "text/plain": [
       "array([[1940,  151],\n",
       "       [ 154, 1915]], dtype=int64)"
      ]
     },
     "execution_count": 13,
     "metadata": {},
     "output_type": "execute_result"
    }
   ],
   "source": [
    "confusion_matrix(y_test,y_pred,labels=[1,0])\n"
   ]
  }
 ],
 "metadata": {
  "kernelspec": {
   "display_name": "Python 3",
   "language": "python",
   "name": "python3"
  },
  "language_info": {
   "codemirror_mode": {
    "name": "ipython",
    "version": 3
   },
   "file_extension": ".py",
   "mimetype": "text/x-python",
   "name": "python",
   "nbconvert_exporter": "python",
   "pygments_lexer": "ipython3",
   "version": "3.7.6"
  }
 },
 "nbformat": 4,
 "nbformat_minor": 4
}
